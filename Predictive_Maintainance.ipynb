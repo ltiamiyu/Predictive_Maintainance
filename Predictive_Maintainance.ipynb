{
 "cells": [
  {
   "cell_type": "markdown",
   "metadata": {},
   "source": [
    "# PREDICTIVE MAINTAINANCE"
   ]
  },
  {
   "cell_type": "markdown",
   "metadata": {},
   "source": [
    "## Introduction\n",
    "I was involved in a chat recently on the possibility of using data to predict machine maintainance. It led to several days of me thinking of all possible ways to solve the problem. Some of the questions I asked myself included; What type of data do I need to answer the problem I am trying to solve?, Where do I get that data?\n",
    "\n",
    "After several days of searching through the web (including the newly released Google Dataset Search engine), I found the SECOM dataset on UCI's Machine Learning Repository.\n",
    "\n",
    "\n",
    "\n",
    "## About the dataset\n",
    "The data is a 1567x591 matrix collected from a semi-conductor manufacturing process. Below is a brief description of the dataset taken from the website.\n",
    "\n",
    "`A complex modern semi-conductor manufacturing process is normally under consistent surveillance via the monitoring of signals/variables collected from sensors and or process measurement points. However, not all of these signals are equally valuable in a specific monitoring system. The measured signals contain a combination of useful information, irrelevant information as well as noise. It is often the case that useful information is buried in the latter two. Engineers typically have a much larger number of signals than are actually required. If we consider each type of signal as a feature, then feature selection may be applied to identify the most relevant signals. The Process Engineers may then use these signals to determine key factors contributing to yield excursions downstream in the process.`\n",
    "\n",
    "You can find the dataset and other relevant documents here https://archive.ics.uci.edu/ml/datasets/SECOM\n",
    "\n",
    "Why this dataset you ask?\n",
    "\n",
    "Well my hypothesis is that, certain signals in the data are significant in determining if process will fail or pass. Each signal will be considered as a feature, which will be used to train a model.\n",
    "\n",
    "Here we go..."
   ]
  },
  {
   "cell_type": "code",
   "execution_count": 1,
   "metadata": {},
   "outputs": [],
   "source": [
    "import pandas as pd\n",
    "import numpy as np"
   ]
  },
  {
   "cell_type": "code",
   "execution_count": 2,
   "metadata": {},
   "outputs": [
    {
     "data": {
      "text/plain": [
       "(1567, 590)"
      ]
     },
     "execution_count": 2,
     "metadata": {},
     "output_type": "execute_result"
    }
   ],
   "source": [
    "#import dataset\n",
    "data = np.genfromtxt('data\\secom.data')\n",
    "\n",
    "#dataset shape\n",
    "data.shape"
   ]
  },
  {
   "cell_type": "code",
   "execution_count": 3,
   "metadata": {},
   "outputs": [
    {
     "data": {
      "text/plain": [
       "(1567, 3)"
      ]
     },
     "execution_count": 3,
     "metadata": {},
     "output_type": "execute_result"
    }
   ],
   "source": [
    "#import data label\n",
    "data_label = np.genfromtxt('data\\secom_labels.data')\n",
    "\n",
    "#dataset label shape\n",
    "data_label.shape #1567 rows and 3 columns"
   ]
  },
  {
   "cell_type": "markdown",
   "metadata": {},
   "source": [
    "### Data Pre-processing"
   ]
  },
  {
   "cell_type": "code",
   "execution_count": 4,
   "metadata": {},
   "outputs": [
    {
     "name": "stdout",
     "output_type": "stream",
     "text": [
      "Number of columns with missing values: 538\n",
      "Number of rows with missing values: 1567\n",
      "Number of missing values in dataset: 41951 ( 4.54 % of the dataset)\n"
     ]
    }
   ],
   "source": [
    "#check for missing values \n",
    "\n",
    "print('Number of columns with missing values:' , np.sum(np.isnan(data).any(axis = 0)))\n",
    "\n",
    "print('Number of rows with missing values:' , np.sum(np.isnan(data).any(axis = 1)))\n",
    "\n",
    "print('Number of missing values in dataset:', np.sum(np.isnan(data)),'(', \"%.2f\" % (np.sum(np.isnan(data))/(data.shape[0]*data.shape[1])*100),\n",
    "      '% of the dataset)')"
   ]
  },
  {
   "cell_type": "code",
   "execution_count": 5,
   "metadata": {},
   "outputs": [
    {
     "name": "stdout",
     "output_type": "stream",
     "text": [
      "Minimum proportion of missing values in a feature: 0.00\n",
      "Maximum proportion of missing values in a feature: 0.10\n"
     ]
    }
   ],
   "source": [
    "print('Minimum proportion of missing values in a feature:', '%.2f' % np.min(np.isnan(data).sum(axis = 1)/data.shape[0]))\n",
    "\n",
    "print('Maximum proportion of missing values in a feature:', '%.2f' % np.max(np.isnan(data).sum(axis = 1)/data.shape[0]))"
   ]
  },
  {
   "cell_type": "markdown",
   "metadata": {},
   "source": [
    "Only 4.5% of the data is missing and maximum proportion of missing values in a feature is only 10%. All the features of the data have enough information. An obvious approach to fixing the missing values will be to fill them with the relative feature average. "
   ]
  },
  {
   "cell_type": "code",
   "execution_count": 6,
   "metadata": {},
   "outputs": [
    {
     "name": "stdout",
     "output_type": "stream",
     "text": [
      "Number of columns with missing values: 2\n",
      "Number of rows with missing values: 1567\n"
     ]
    }
   ],
   "source": [
    "#check for missing values in data label\n",
    "\n",
    "print('Number of columns with missing values:' , np.sum(np.isnan(data_label).any(axis = 0)))\n",
    "\n",
    "print('Number of rows with missing values:' , np.sum(np.isnan(data_label).any(axis = 1)))"
   ]
  },
  {
   "cell_type": "markdown",
   "metadata": {},
   "source": [
    "All rows the last two columns have missing values. These columns have the datetime stamp of when the monitoring/signal data was collected. These two features are not needed hence they will be ommitted. "
   ]
  },
  {
   "cell_type": "code",
   "execution_count": 7,
   "metadata": {},
   "outputs": [
    {
     "data": {
      "text/plain": [
       "(array([-1.,  1.]), array([1463,  104], dtype=int64))"
      ]
     },
     "execution_count": 7,
     "metadata": {},
     "output_type": "execute_result"
    }
   ],
   "source": [
    "#keep data label only(first column only)\n",
    "data_label = data_label[:,0]\n",
    "\n",
    "np.unique(data_label, return_counts = True)"
   ]
  },
  {
   "cell_type": "code",
   "execution_count": 8,
   "metadata": {},
   "outputs": [],
   "source": [
    "#Train - Test split\n",
    "from sklearn.model_selection import train_test_split\n",
    "\n",
    "X = data.copy()\n",
    "y = data_label.copy()\n",
    "\n",
    "#keep 30% of the data for testing the model accuracy\n",
    "X_train, X_test, y_train, y_test = train_test_split(X, y, test_size = 0.3)"
   ]
  },
  {
   "cell_type": "code",
   "execution_count": 9,
   "metadata": {},
   "outputs": [
    {
     "name": "stdout",
     "output_type": "stream",
     "text": [
      "Shape of training data (1096, 590)\n",
      "Shape of training label (1096,)\n",
      "Shape of test data (471, 590)\n",
      "Shape of test label (471,)\n"
     ]
    }
   ],
   "source": [
    "print('Shape of training data', X_train.shape)\n",
    "print('Shape of training label', y_train.shape)\n",
    "\n",
    "print('Shape of test data', X_test.shape)\n",
    "print('Shape of test label', y_test.shape)"
   ]
  },
  {
   "cell_type": "code",
   "execution_count": 10,
   "metadata": {},
   "outputs": [],
   "source": [
    "#Handling missing values: filling missing values with respective feature average\n",
    "\n",
    "#calculate the mean of each feature on the data\n",
    "X_col_mean = np.nanmean(X_train, axis = 0)\n",
    "\n",
    "#indices of nans in training dataset\n",
    "X_inds = np.where(np.isnan(X_train))\n",
    "\n",
    "#fill missing values at indices with column average \n",
    "X_train[X_inds] = np.take(X_col_mean, X_inds[1])"
   ]
  },
  {
   "cell_type": "code",
   "execution_count": 11,
   "metadata": {},
   "outputs": [
    {
     "data": {
      "text/plain": [
       "0"
      ]
     },
     "execution_count": 11,
     "metadata": {},
     "output_type": "execute_result"
    }
   ],
   "source": [
    "#check if training data still have missing values \n",
    "np.sum(np.isnan(X_train)) #0 missing values present"
   ]
  },
  {
   "cell_type": "markdown",
   "metadata": {},
   "source": [
    "Now that all missing values have been filled with their repective feature averages, duplicate records(if any) will be removed."
   ]
  },
  {
   "cell_type": "code",
   "execution_count": 12,
   "metadata": {},
   "outputs": [
    {
     "data": {
      "text/plain": [
       "1096"
      ]
     },
     "execution_count": 12,
     "metadata": {},
     "output_type": "execute_result"
    }
   ],
   "source": [
    "#check for duplicate records in training data\n",
    "np.unique(X_train, axis = 0).shape[0] #1567 unique rows. "
   ]
  },
  {
   "cell_type": "markdown",
   "metadata": {},
   "source": [
    "No duplicated rows/records found in the training data."
   ]
  },
  {
   "cell_type": "markdown",
   "metadata": {},
   "source": [
    "### Dimensionality Reduction\n",
    "\n",
    "There are 590(591 with the data label) features in the data but not all explains or adds value to the data. To reduce the dimension of the data to only features that truly explains the dataset variance, Principal Component analysis (PCA) technique will be used. PCA will identify features with direction of high variance, highlight and keep features of the data that explains close to 100% of the dataset variance. This can also be considered a form of feature engineering/selection process. Another important advantage of reducing the dimension of the data is that, it prevents the model from overfitting to the noise of the training dataset.\n",
    "\n",
    "But first, scaling the data prevents PCA from being baised to the underlying variance of data feature."
   ]
  },
  {
   "cell_type": "code",
   "execution_count": 13,
   "metadata": {},
   "outputs": [
    {
     "name": "stdout",
     "output_type": "stream",
     "text": [
      "Mean of the scaled trainig data: 0.00\n",
      "Variance of the scaled trainig data: 0.79\n"
     ]
    }
   ],
   "source": [
    "#scaling the data using the StandardScaler library in Sci-kit-learn\n",
    "from sklearn.preprocessing import StandardScaler\n",
    "\n",
    "#Instantiate Scaler\n",
    "scaler = StandardScaler()\n",
    "\n",
    "#Fit and transform data\n",
    "X_train_scaled = scaler.fit(X_train).transform(X_train)\n",
    "\n",
    "#check mean and variance of scaled data\n",
    "print('Mean of the scaled trainig data:', '%.2f' % np.mean(X_train_scaled))\n",
    "print('Variance of the scaled trainig data:', '%.2f' % np.var(X_train_scaled))"
   ]
  },
  {
   "cell_type": "code",
   "execution_count": 14,
   "metadata": {},
   "outputs": [],
   "source": [
    "#dimnsionality reduction using Principal Component Analysis\n",
    "from sklearn.decomposition import PCA\n",
    "\n",
    "#Instantiate PCA\n",
    "pca = PCA() \n",
    "\n",
    "#Fit and transform scaled data\n",
    "X_train_pca = pca.fit(X_train_scaled).transform(X_train_scaled)"
   ]
  },
  {
   "cell_type": "code",
   "execution_count": 15,
   "metadata": {},
   "outputs": [
    {
     "data": {
      "image/png": "[encoded data removed]",
      "text/plain": [
       "<Figure size 432x288 with 1 Axes>"
      ]
     },
     "metadata": {
      "needs_background": "light"
     },
     "output_type": "display_data"
    }
   ],
   "source": [
    "#plot of explained variance\n",
    "import matplotlib.pyplot as plt\n",
    "%matplotlib inline\n",
    "\n",
    "plt.figure()\n",
    "\n",
    "plt.plot(np.cumsum(pca.explained_variance_ratio_))\n",
    "\n",
    "plt.title('Cummulative plot of explained variance ratio')\n",
    "plt.xlabel('Number of components')\n",
    "plt.ylabel('Explained variance ratio')\n",
    "plt.show()"
   ]
  },
  {
   "cell_type": "markdown",
   "metadata": {},
   "source": [
    "With 250 components, approximately 98% of the data variance is still explained. Hence only these features/signals will be used to train the model."
   ]
  },
  {
   "cell_type": "code",
   "execution_count": 16,
   "metadata": {},
   "outputs": [],
   "source": [
    "#dimnsionality reduction using Principal Component Analysis\n",
    "from sklearn.decomposition import PCA\n",
    "\n",
    "#Instantiate PCA\n",
    "pca = PCA(n_components= 250)\n",
    "\n",
    "#Fit and transform scaled data\n",
    "X_train_pca = pca.fit(X_train_scaled).transform(X_train_scaled)"
   ]
  },
  {
   "cell_type": "code",
   "execution_count": 17,
   "metadata": {},
   "outputs": [
    {
     "data": {
      "text/plain": [
       "(1096, 250)"
      ]
     },
     "execution_count": 17,
     "metadata": {},
     "output_type": "execute_result"
    }
   ],
   "source": [
    "X_train_pca.shape"
   ]
  },
  {
   "cell_type": "markdown",
   "metadata": {},
   "source": [
    "### Fitting a Model"
   ]
  },
  {
   "cell_type": "markdown",
   "metadata": {},
   "source": [
    "Fitting a Logistic Regression model because the expected outcome is binary (-1: pass, 1: fail). The model will then be optimized to see how high of an accuracy can be achieved on predictions without overfitting to the training data."
   ]
  },
  {
   "cell_type": "code",
   "execution_count": 18,
   "metadata": {},
   "outputs": [
    {
     "name": "stdout",
     "output_type": "stream",
     "text": [
      "Average score 0.878654091499385\n"
     ]
    }
   ],
   "source": [
    "from warnings import filterwarnings\n",
    "filterwarnings('ignore')\n",
    "\n",
    "#Fitting an simple logistic regression model \n",
    "from sklearn.linear_model import LogisticRegression\n",
    "\n",
    "#Instantiate model using default parameters\n",
    "logreg1 = LogisticRegression()\n",
    "\n",
    "#Use k=5 cross validation sets\n",
    "from sklearn.model_selection import cross_val_score\n",
    "\n",
    "score = cross_val_score(logreg1, X_train_pca, y_train, cv = 5)\n",
    "\n",
    "print('Average score',np.mean(score))"
   ]
  },
  {
   "cell_type": "code",
   "execution_count": 19,
   "metadata": {},
   "outputs": [],
   "source": [
    "#Optimizing model's hyperparameters\n",
    "c_range = [0.00001, 0.0001, 0.001, 0.01, 0.1, 1, 10, 100, 1000, 10000]\n",
    "val_Score = []\n",
    "\n",
    "for c in c_range:\n",
    "    \n",
    "    #Instantiate model using default parameters\n",
    "    logreg1 = LogisticRegression(C = c, penalty = 'l2')\n",
    "\n",
    "    #Use k=5 cross validation sets\n",
    "    score = cross_val_score(logreg1, X_train_pca, y_train, cv = 5)\n",
    "    \n",
    "    #average score \n",
    "    val_Score.append(np.mean(score))"
   ]
  },
  {
   "cell_type": "code",
   "execution_count": 20,
   "metadata": {},
   "outputs": [
    {
     "data": {
      "image/png": "[encoded data removed]",
      "text/plain": [
       "<Figure size 432x288 with 1 Axes>"
      ]
     },
     "metadata": {
      "needs_background": "light"
     },
     "output_type": "display_data"
    }
   ],
   "source": [
    "#plotting the validation scores \n",
    "import matplotlib.pyplot as plt\n",
    "%matplotlib inline\n",
    "\n",
    "plt.figure()\n",
    "\n",
    "plt.plot(c_range, val_Score, label = 'Val_score', marker = '*')\n",
    "\n",
    "plt.title('Average Validation score at values of C')\n",
    "plt.xlabel('C value')\n",
    "plt.ylabel('Average validation score')\n",
    "\n",
    "plt.xscale('log')\n",
    "plt.legend()\n",
    "plt.show()"
   ]
  },
  {
   "cell_type": "markdown",
   "metadata": {},
   "source": [
    "The fitted Logistic Regression model is optimized at C = 0.001. "
   ]
  },
  {
   "cell_type": "code",
   "execution_count": 21,
   "metadata": {},
   "outputs": [],
   "source": [
    "#Refitting model with best hyperparameters\n",
    "logreg1 = LogisticRegression(C = 0.001, penalty = 'l2')"
   ]
  },
  {
   "cell_type": "code",
   "execution_count": 22,
   "metadata": {},
   "outputs": [
    {
     "data": {
      "text/plain": [
       "0.947992700729927"
      ]
     },
     "execution_count": 22,
     "metadata": {},
     "output_type": "execute_result"
    }
   ],
   "source": [
    "#Model Evaluation: Accuracy\n",
    "logreg1.fit(X_train_pca, y_train).score(X_train_pca, y_train)"
   ]
  },
  {
   "cell_type": "code",
   "execution_count": 28,
   "metadata": {},
   "outputs": [],
   "source": [
    "#Evaluating Model results\n",
    "from sklearn.metrics import classification_report, confusion_matrix, roc_auc_score, roc_curve"
   ]
  },
  {
   "cell_type": "code",
   "execution_count": 29,
   "metadata": {},
   "outputs": [
    {
     "name": "stdout",
     "output_type": "stream",
     "text": [
      "Confusion matrix \n",
      " [[1022   10]\n",
      " [  47   17]]\n"
     ]
    }
   ],
   "source": [
    "#Model Evaluation: Confusion matrix\n",
    "y_pred = logreg1.predict(X_train_pca)\n",
    "\n",
    "print('Confusion matrix \\n', confusion_matrix(y_train, y_pred)) "
   ]
  },
  {
   "cell_type": "code",
   "execution_count": 30,
   "metadata": {},
   "outputs": [
    {
     "name": "stdout",
     "output_type": "stream",
     "text": [
      "Classification Report \n",
      "               precision    recall  f1-score   support\n",
      "\n",
      "        -1.0       0.96      0.99      0.97      1032\n",
      "         1.0       0.63      0.27      0.37        64\n",
      "\n",
      "    accuracy                           0.95      1096\n",
      "   macro avg       0.79      0.63      0.67      1096\n",
      "weighted avg       0.94      0.95      0.94      1096\n",
      "\n"
     ]
    }
   ],
   "source": [
    "#Model Evaluation: Classification report\n",
    "print('Classification Report \\n', classification_report(y_train, y_pred))"
   ]
  },
  {
   "cell_type": "code",
   "execution_count": 36,
   "metadata": {},
   "outputs": [],
   "source": [
    "#calculate false and true positive rates at different thresholds\n",
    "y_pred_prob = logreg1.predict_proba(X_train_pca)[:,1]\n",
    "\n",
    "fprs, tprs, thresholds = roc_curve(y_train, y_pred_prob, pos_label= 1)\n",
    "\n",
    "roc_auc = roc_auc_score(y_train, y_pred_prob)"
   ]
  },
  {
   "cell_type": "code",
   "execution_count": 37,
   "metadata": {},
   "outputs": [
    {
     "data": {
      "image/png": "[encoded data removed]",
      "text/plain": [
       "<Figure size 432x288 with 1 Axes>"
      ]
     },
     "metadata": {
      "needs_background": "light"
     },
     "output_type": "display_data"
    }
   ],
   "source": [
    "plt.figure()\n",
    "\n",
    "plt.plot(fprs, tprs,label = 'AUC = ' '%.2f' % roc_auc, color = 'green')\n",
    "\n",
    "plt.title('Reciever\"s Operating Curve(ROC)')\n",
    "plt.xlabel('false positive rate(fpr)')\n",
    "plt.ylabel('true positive rate(tpr)')\n",
    "plt.legend()\n",
    "plt.show()"
   ]
  },
  {
   "cell_type": "markdown",
   "metadata": {},
   "source": [
    "The fitted model have a good accuracy of 0.95. However, the confusion matrix and classification report indicates that the model is better at predicting the positive(-1) but not the negative(1) class. This could be because of the data's unbalanced class which can be corrected by oversampling minority class or undersampling the majority class. \n",
    "\n",
    "Below is a test to check if different probability threshold will improve the precision and recall of the negative class."
   ]
  },
  {
   "cell_type": "code",
   "execution_count": 38,
   "metadata": {},
   "outputs": [],
   "source": [
    "from sklearn.metrics import recall_score, precision_score\n",
    "\n",
    "#generate random numbers between 0 and 1\n",
    "threshold = np.linspace(0,1,50)\n",
    "\n",
    "thresholds = []\n",
    "fail_class_recall = []\n",
    "fail_class_precision = []\n",
    "\n",
    "#predicted probability of class 1(fail)\n",
    "y_pred_prob = logreg1.predict_proba(X_train_pca)[:,1]\n",
    "\n",
    "for threshold in threshold:\n",
    "    \n",
    "    y_pred = np.where(y_pred_prob > threshold, 1, -1)  #if predicted probability above threshold then classify as pass otherwise fail.\n",
    "    \n",
    "    fail_class_recall.append(recall_score(y_train, y_pred))\n",
    "    \n",
    "    fail_class_precision.append(precision_score(y_train, y_pred))\n",
    "    \n",
    "    thresholds.append(threshold)"
   ]
  },
  {
   "cell_type": "code",
   "execution_count": 39,
   "metadata": {},
   "outputs": [
    {
     "data": {
      "image/png": "[encoded data removed]",
      "text/plain": [
       "<Figure size 432x288 with 1 Axes>"
      ]
     },
     "metadata": {
      "needs_background": "light"
     },
     "output_type": "display_data"
    }
   ],
   "source": [
    "plt.figure()\n",
    "\n",
    "plt.plot(thresholds, fail_class_recall, marker = 'o', label = 'recall', color = 'green')\n",
    "plt.plot(thresholds, fail_class_precision, marker = 'o', label = 'precision', color = 'blue')\n",
    "\n",
    "plt.title('Precison-Recall at different thresholds')\n",
    "plt.xlabel('Threshold')\n",
    "plt.ylabel('Precision-Recall')\n",
    "plt.legend()\n",
    "plt.show()"
   ]
  },
  {
   "cell_type": "code",
   "execution_count": 40,
   "metadata": {},
   "outputs": [],
   "source": [
    "#setting up a grid search to find the combination of hyperparameters that could possibly improve the model\n",
    "from sklearn.model_selection import GridSearchCV\n",
    "\n",
    "from sklearn.pipeline import Pipeline\n",
    "\n",
    "estimators = [('reduce_dim', PCA()),\n",
    "              ('model', LogisticRegression())]\n",
    "\n",
    "params = [{'reduce_dim__n_components': [None, 50, 150, 100, 200, 250]},\n",
    "             {'model__C': [0.00001, 0.0001, 0.001, 0.01, 0.1, 1, 10, 100, 1000, 10000]}]\n",
    "\n",
    "#Instantiate Pipeline with estimators\n",
    "pipe = Pipeline(estimators)\n",
    "\n",
    "#instantiate grid search\n",
    "grid = GridSearchCV(pipe, param_grid= params, cv = 5)\n",
    "\n",
    "#Fit to scaled training data\n",
    "fitted_search = grid.fit(X_train_scaled, y_train)"
   ]
  },
  {
   "cell_type": "code",
   "execution_count": 41,
   "metadata": {},
   "outputs": [
    {
     "data": {
      "text/plain": [
       "Pipeline(memory=None,\n",
       "         steps=[('reduce_dim',\n",
       "                 PCA(copy=True, iterated_power='auto', n_components=50,\n",
       "                     random_state=None, svd_solver='auto', tol=0.0,\n",
       "                     whiten=False)),\n",
       "                ('model',\n",
       "                 LogisticRegression(C=1.0, class_weight=None, dual=False,\n",
       "                                    fit_intercept=True, intercept_scaling=1,\n",
       "                                    l1_ratio=None, max_iter=100,\n",
       "                                    multi_class='warn', n_jobs=None,\n",
       "                                    penalty='l2', random_state=None,\n",
       "                                    solver='warn', tol=0.0001, verbose=0,\n",
       "                                    warm_start=False))],\n",
       "         verbose=False)"
      ]
     },
     "execution_count": 41,
     "metadata": {},
     "output_type": "execute_result"
    }
   ],
   "source": [
    "#best estimator\n",
    "fitted_search.best_estimator_"
   ]
  },
  {
   "cell_type": "code",
   "execution_count": 42,
   "metadata": {},
   "outputs": [
    {
     "data": {
      "text/plain": [
       "0.9425182481751825"
      ]
     },
     "execution_count": 42,
     "metadata": {},
     "output_type": "execute_result"
    }
   ],
   "source": [
    "#Accuracy of model on the training set\n",
    "fitted_search.score(X_train_scaled, y_train)"
   ]
  },
  {
   "cell_type": "code",
   "execution_count": 43,
   "metadata": {},
   "outputs": [],
   "source": [
    "#Fitting best model from the grid search using a pipeline\n",
    "estimators = (('reduce_dim',PCA(n_components = 50)),\n",
    "                  ('model', LogisticRegression(C = 1, penalty = 'l2')))\n",
    "\n",
    "grid_best_model = Pipeline(estimators)"
   ]
  },
  {
   "cell_type": "code",
   "execution_count": 44,
   "metadata": {},
   "outputs": [],
   "source": [
    "#fit to training data\n",
    "grid_best_model.fit(X_train_scaled, y_train)\n",
    "\n",
    "#Predict y\n",
    "y_pred = grid_best_model.predict(X_train_scaled)"
   ]
  },
  {
   "cell_type": "code",
   "execution_count": 45,
   "metadata": {},
   "outputs": [
    {
     "name": "stdout",
     "output_type": "stream",
     "text": [
      "Confusion matrix \n",
      " [[1032    0]\n",
      " [  62    2]]\n"
     ]
    }
   ],
   "source": [
    "print('Confusion matrix \\n', confusion_matrix(y_train, y_pred))"
   ]
  },
  {
   "cell_type": "code",
   "execution_count": 46,
   "metadata": {},
   "outputs": [
    {
     "name": "stdout",
     "output_type": "stream",
     "text": [
      "Classification Report \n",
      "               precision    recall  f1-score   support\n",
      "\n",
      "        -1.0       0.94      1.00      0.97      1032\n",
      "         1.0       1.00      0.03      0.06        64\n",
      "\n",
      "    accuracy                           0.94      1096\n",
      "   macro avg       0.97      0.52      0.52      1096\n",
      "weighted avg       0.95      0.94      0.92      1096\n",
      "\n"
     ]
    }
   ],
   "source": [
    "print('Classification Report \\n', classification_report(y_train, y_pred))"
   ]
  },
  {
   "cell_type": "markdown",
   "metadata": {},
   "source": [
    "Improved accuracy, but the output of the model still indicates a better prediction of the positive than the negative class."
   ]
  },
  {
   "cell_type": "markdown",
   "metadata": {},
   "source": [
    "### Oversampling the data\n",
    "\n",
    "Oversampling the data to balance the classes in an attempt to improve the model prediction of both classes."
   ]
  },
  {
   "cell_type": "code",
   "execution_count": 47,
   "metadata": {},
   "outputs": [
    {
     "name": "stdout",
     "output_type": "stream",
     "text": [
      "Shape of training data resampled: (2064, 590)\n",
      "Shape of training target resampled: (2064,)\n",
      "Class oversampled: (array([-1.,  1.]), array([1032, 1032], dtype=int64))\n"
     ]
    }
   ],
   "source": [
    "#Oversampling using imbalance-learn library\n",
    "from imblearn.over_sampling import RandomOverSampler\n",
    "\n",
    "#instantiate oversampler\n",
    "ros = RandomOverSampler()\n",
    "\n",
    "#fit and transform \n",
    "X_train_resampled,y_train_resampled = ros.fit_resample(X_train, y_train)\n",
    "\n",
    "print('Shape of training data resampled:', X_train_resampled.shape)\n",
    "print('Shape of training target resampled:', y_train_resampled.shape)\n",
    "print('Class oversampled:', np.unique(y_train_resampled, return_counts = True))"
   ]
  },
  {
   "cell_type": "code",
   "execution_count": 48,
   "metadata": {},
   "outputs": [],
   "source": [
    "#Set up new Grid search to find the best model that fits the data\n",
    "\n",
    "estimators_2 = [('normalize', StandardScaler()),\n",
    "                ('dim_reduced',PCA()),\n",
    "                ('model', LogisticRegression())]\n",
    "                    \n",
    "pipe_2 = Pipeline(estimators_2)\n",
    "\n",
    "params = [{'normalize': [None, StandardScaler()]},\n",
    "            {'dim_reduced__n_components': [None, 50, 100, 150, 200, 250]},\n",
    "            {'model__C':[0.00001, 0.0001, 0.001, 0.01, 0.1, 1, 10, 100, 1000, 10000]}]\n",
    "\n",
    "fitted_grid_2 = GridSearchCV(pipe_2, param_grid= params, cv = 10)"
   ]
  },
  {
   "cell_type": "code",
   "execution_count": 49,
   "metadata": {},
   "outputs": [
    {
     "data": {
      "text/plain": [
       "GridSearchCV(cv=10, error_score='raise-deprecating',\n",
       "             estimator=Pipeline(memory=None,\n",
       "                                steps=[('normalize',\n",
       "                                        StandardScaler(copy=True,\n",
       "                                                       with_mean=True,\n",
       "                                                       with_std=True)),\n",
       "                                       ('dim_reduced',\n",
       "                                        PCA(copy=True, iterated_power='auto',\n",
       "                                            n_components=None,\n",
       "                                            random_state=None,\n",
       "                                            svd_solver='auto', tol=0.0,\n",
       "                                            whiten=False)),\n",
       "                                       ('model',\n",
       "                                        LogisticRegression(C=1.0,\n",
       "                                                           class_weight=None,\n",
       "                                                           dual=False,\n",
       "                                                           f...\n",
       "                                                           verbose=0,\n",
       "                                                           warm_start=False))],\n",
       "                                verbose=False),\n",
       "             iid='warn', n_jobs=None,\n",
       "             param_grid=[{'normalize': [None,\n",
       "                                        StandardScaler(copy=True,\n",
       "                                                       with_mean=True,\n",
       "                                                       with_std=True)]},\n",
       "                         {'dim_reduced__n_components': [None, 50, 100, 150, 200,\n",
       "                                                        250]},\n",
       "                         {'model__C': [1e-05, 0.0001, 0.001, 0.01, 0.1, 1, 10,\n",
       "                                       100, 1000, 10000]}],\n",
       "             pre_dispatch='2*n_jobs', refit=True, return_train_score=False,\n",
       "             scoring=None, verbose=0)"
      ]
     },
     "execution_count": 49,
     "metadata": {},
     "output_type": "execute_result"
    }
   ],
   "source": [
    "#fit to training data to grid\n",
    "fitted_grid_2.fit(X_train_resampled, y_train_resampled)"
   ]
  },
  {
   "cell_type": "code",
   "execution_count": 50,
   "metadata": {},
   "outputs": [
    {
     "data": {
      "text/plain": [
       "Pipeline(memory=None,\n",
       "         steps=[('normalize',\n",
       "                 StandardScaler(copy=True, with_mean=True, with_std=True)),\n",
       "                ('dim_reduced',\n",
       "                 PCA(copy=True, iterated_power='auto', n_components=None,\n",
       "                     random_state=None, svd_solver='auto', tol=0.0,\n",
       "                     whiten=False)),\n",
       "                ('model',\n",
       "                 LogisticRegression(C=10, class_weight=None, dual=False,\n",
       "                                    fit_intercept=True, intercept_scaling=1,\n",
       "                                    l1_ratio=None, max_iter=100,\n",
       "                                    multi_class='warn', n_jobs=None,\n",
       "                                    penalty='l2', random_state=None,\n",
       "                                    solver='warn', tol=0.0001, verbose=0,\n",
       "                                    warm_start=False))],\n",
       "         verbose=False)"
      ]
     },
     "execution_count": 50,
     "metadata": {},
     "output_type": "execute_result"
    }
   ],
   "source": [
    "fitted_grid_2.best_estimator_"
   ]
  },
  {
   "cell_type": "code",
   "execution_count": 51,
   "metadata": {},
   "outputs": [],
   "source": [
    "#Retrain model using resampled training data \n",
    "\n",
    "#Normalize training data\n",
    "X_train_ros_normalized = StandardScaler().fit_transform(X_train_resampled)\n",
    "\n",
    "#Reduce data dimension\n",
    "X_train_ros_pca = PCA().fit_transform(X_train_ros_normalized)"
   ]
  },
  {
   "cell_type": "code",
   "execution_count": 52,
   "metadata": {},
   "outputs": [
    {
     "name": "stdout",
     "output_type": "stream",
     "text": [
      "Model3: Confusion Matrix \n",
      " [[1032    0]\n",
      " [   0 1032]]\n"
     ]
    }
   ],
   "source": [
    "#Fitting the third model\n",
    "model3 = LogisticRegression(C=100, penalty = 'l2')\n",
    "\n",
    "model3.fit(X_train_ros_pca, y_train_resampled)\n",
    "\n",
    "y_pred_3 = model3.predict(X_train_ros_pca)\n",
    "\n",
    "print('Model3: Confusion Matrix \\n', confusion_matrix(y_train_resampled,y_pred_3))"
   ]
  },
  {
   "cell_type": "code",
   "execution_count": 53,
   "metadata": {},
   "outputs": [
    {
     "data": {
      "text/plain": [
       "1.0"
      ]
     },
     "execution_count": 53,
     "metadata": {},
     "output_type": "execute_result"
    }
   ],
   "source": [
    "model3.score(X_train_ros_pca,y_train_resampled)"
   ]
  },
  {
   "cell_type": "code",
   "execution_count": 54,
   "metadata": {},
   "outputs": [
    {
     "name": "stdout",
     "output_type": "stream",
     "text": [
      "Model3: Classification Report \n",
      "               precision    recall  f1-score   support\n",
      "\n",
      "        -1.0       1.00      1.00      1.00      1032\n",
      "         1.0       1.00      1.00      1.00      1032\n",
      "\n",
      "    accuracy                           1.00      2064\n",
      "   macro avg       1.00      1.00      1.00      2064\n",
      "weighted avg       1.00      1.00      1.00      2064\n",
      "\n"
     ]
    }
   ],
   "source": [
    "print('Model3: Classification Report \\n', classification_report(y_train_resampled,y_pred_3))"
   ]
  },
  {
   "cell_type": "markdown",
   "metadata": {},
   "source": [
    "Improved accuracy with oversampled, but overfitted to the training data."
   ]
  },
  {
   "cell_type": "markdown",
   "metadata": {},
   "source": [
    "### Final Model\n",
    "\n",
    "Evaluating final model on test data."
   ]
  },
  {
   "cell_type": "code",
   "execution_count": 55,
   "metadata": {},
   "outputs": [],
   "source": [
    "#Feel missing values in test data as done with training data\n",
    "\n",
    "#indices of nans in training dataset\n",
    "X_inds = np.where(np.isnan(X_test))\n",
    "\n",
    "#fill missing values at indices with column average \n",
    "X_test[X_inds] = np.take(X_col_mean, X_inds[1])"
   ]
  },
  {
   "cell_type": "code",
   "execution_count": 56,
   "metadata": {},
   "outputs": [
    {
     "data": {
      "text/plain": [
       "LogisticRegression(C=100, class_weight=None, dual=False, fit_intercept=True,\n",
       "                   intercept_scaling=1, l1_ratio=None, max_iter=100,\n",
       "                   multi_class='warn', n_jobs=None, penalty='l2',\n",
       "                   random_state=None, solver='warn', tol=0.0001, verbose=0,\n",
       "                   warm_start=False)"
      ]
     },
     "execution_count": 56,
     "metadata": {},
     "output_type": "execute_result"
    }
   ],
   "source": [
    "#Model1:Trained on normalized data, 250 dimensions\n",
    "model1 = LogisticRegression(C = 0.001, penalty = 'l2')\n",
    "scaler1 = StandardScaler()\n",
    "pca1 = PCA(n_components= 250)\n",
    "\n",
    "X_train_normalized1 = scaler1.fit(X_train).transform(X_train)\n",
    "X_train_pca1 = pca1.fit(X_train_normalized1).transform(X_train_normalized1)\n",
    "\n",
    "X_test_normalized1 = scaler1.transform(X_test)\n",
    "X_test_pca1 = pca1.transform(X_test_normalized1)\n",
    "\n",
    "model1.fit(X_train_pca1, y_train)\n",
    "\n",
    "\n",
    "#model2: Trained on unscaled data with only 50 dimension\n",
    "model2 = LogisticRegression(C = 1, penalty = 'l2')\n",
    "pca2 = PCA(n_components= 50)\n",
    "X_train_pca2 = pca2.fit(X_train).transform(X_train)\n",
    "X_test_pca2 = pca2.transform(X_test)\n",
    "\n",
    "model2.fit(X_train_pca2, y_train)\n",
    "\n",
    "\n",
    "#model3: Trained on scaled oversampled data with all data dimensions\n",
    "model3 = LogisticRegression(C=100, penalty = 'l2')\n",
    "\n",
    "#Oversampled data\n",
    "X_train_rs,y_train_rs = RandomOverSampler().fit_resample(X_train,y_train) #where rs = resampled\n",
    "\n",
    "scaler3 = StandardScaler()\n",
    "X_train_rs_normalized3 = scaler3.fit(X_train_rs).transform(X_train_rs)\n",
    "X_test_normalized3 = scaler3.transform(X_test)\n",
    "\n",
    "pca3 = PCA()\n",
    "X_train_rs_pca3 = pca3.fit(X_train_rs_normalized3).transform(X_train_rs_normalized3)\n",
    "X_test_pca3 = pca3.transform(X_test_normalized3)\n",
    "\n",
    "model3.fit(X_train_rs_pca3, y_train_rs)"
   ]
  },
  {
   "cell_type": "code",
   "execution_count": 57,
   "metadata": {},
   "outputs": [
    {
     "name": "stdout",
     "output_type": "stream",
     "text": [
      "Model 1: Train Score 0.95, Test Score 0.91\n",
      "Model 2: Train Score 0.89, Test Score 0.86\n",
      "Model 3: Train Score 1.00, Test Score 0.85\n"
     ]
    }
   ],
   "source": [
    "print(f'Model 1: Train Score {\"%.2f\" % model1.score(X_train_pca1, y_train)}, Test Score {\"%.2f\" % model1.score(X_test_pca1,y_test)}')\n",
    "print(f'Model 2: Train Score {\"%.2f\" % model2.score(X_train_pca2, y_train)}, Test Score {\"%.2f\" % model2.score(X_test_pca2, y_test)}')\n",
    "print(f'Model 3: Train Score {\"%.2f\" % model3.score(X_train_rs_pca3, y_train_rs)}, Test Score {\"%.2f\" % model3.score(X_test_pca3, y_test)}')"
   ]
  },
  {
   "cell_type": "code",
   "execution_count": 67,
   "metadata": {
    "collapsed": true,
    "jupyter": {
     "outputs_hidden": true
    }
   },
   "outputs": [
    {
     "data": {
      "text/plain": [
       "array([[ 3.69260260e-03,  8.08313898e-03,  3.45224209e-04,\n",
       "        -7.21853099e-03,  1.24414247e-02, -1.71949612e-03,\n",
       "        -1.15226396e-02, -6.43326001e-04,  1.40159672e-02,\n",
       "         1.42198347e-02, -8.22564865e-03, -3.42870443e-03,\n",
       "         2.08789415e-02,  4.19101879e-03, -1.24967774e-02,\n",
       "         5.07405098e-03, -1.01201325e-02, -9.39988561e-03,\n",
       "         1.62232440e-03, -4.17713073e-03,  6.02534297e-03,\n",
       "        -6.09495166e-03, -7.49112380e-03,  3.41929053e-03,\n",
       "         1.71830512e-02,  2.84154058e-03,  1.41948042e-03,\n",
       "        -2.34257742e-03, -9.16235350e-03,  1.75496285e-03,\n",
       "        -1.20947871e-03, -7.25152832e-03,  1.58942658e-02,\n",
       "        -1.68335514e-03, -2.88375307e-03, -5.78918548e-03,\n",
       "         4.58038949e-03, -7.05770263e-03,  8.37693717e-03,\n",
       "        -2.34634769e-04,  8.45428863e-03,  3.33048662e-03,\n",
       "         1.82526392e-02,  2.42115108e-03, -5.64556275e-03,\n",
       "        -9.66031842e-04,  1.11543842e-03, -3.53253908e-03,\n",
       "        -8.36388170e-03, -1.21761522e-03,  4.58794842e-04,\n",
       "        -2.42639995e-04,  1.74922045e-03,  1.06902482e-02,\n",
       "         4.39786643e-03,  8.16296241e-03,  7.63513642e-03,\n",
       "         3.08724635e-04, -1.41196773e-02,  1.23773662e-02,\n",
       "        -1.67218957e-03,  7.52773667e-03, -1.71922622e-02,\n",
       "         1.13552384e-02, -1.30641687e-02,  1.29978906e-02,\n",
       "        -7.39232865e-03,  4.80879158e-03,  3.46170185e-03,\n",
       "         4.86596534e-03, -4.85952670e-03, -7.23612002e-03,\n",
       "        -7.76300787e-04,  7.52619929e-03, -5.14565531e-03,\n",
       "        -3.72482875e-03, -5.23007611e-03,  2.24474702e-03,\n",
       "        -9.79855437e-03, -2.26937450e-02,  1.30149965e-02,\n",
       "        -3.87505788e-03,  1.04598780e-02, -1.93770293e-02,\n",
       "        -3.09702718e-03, -6.00523044e-03,  3.86639086e-03,\n",
       "        -3.53373405e-03, -1.51921299e-03, -1.17871692e-02,\n",
       "        -5.29045914e-03,  8.57037813e-03, -1.05363540e-02,\n",
       "         2.97337468e-04,  5.98569669e-03, -4.12446871e-03,\n",
       "        -8.78334330e-04,  2.35495849e-03,  7.63320498e-03,\n",
       "        -4.41503197e-03, -7.95783269e-03,  1.84607049e-03,\n",
       "         1.48806068e-02, -1.11275604e-02,  4.70413726e-03,\n",
       "        -3.46952391e-03, -4.96926071e-03, -1.83213788e-03,\n",
       "         9.93489382e-04, -7.38722390e-03, -1.85218328e-02,\n",
       "         1.80646831e-03, -3.91664655e-03,  5.38526963e-03,\n",
       "         2.50906539e-03,  4.92974496e-03, -4.48867610e-03,\n",
       "         1.15249825e-02, -1.15044334e-02,  2.19363194e-03,\n",
       "         2.49607525e-03,  2.75616326e-05, -2.45712152e-03,\n",
       "         2.49445598e-03, -7.10571154e-03, -2.39652643e-03,\n",
       "        -4.37486554e-03,  8.50263331e-03, -2.94869474e-05,\n",
       "        -9.00811735e-03, -3.86568924e-03,  2.79606862e-03,\n",
       "         1.12552549e-03,  4.15195780e-03,  5.98071463e-03,\n",
       "        -2.02187317e-03,  1.12685333e-03, -2.32852919e-03,\n",
       "         1.99717840e-03, -3.57016787e-03,  2.53914788e-03,\n",
       "        -8.37467442e-03,  2.21190315e-03,  1.13760705e-02,\n",
       "        -1.85945732e-03, -8.02933863e-04, -1.55614876e-03,\n",
       "         1.06128554e-02, -4.68098714e-03,  4.09027439e-03,\n",
       "         3.15406904e-04,  4.03483334e-03, -4.58543013e-03,\n",
       "         2.18783071e-03, -3.22084716e-03, -5.07291566e-03,\n",
       "         1.39706975e-03,  7.23895143e-03, -8.33224032e-03,\n",
       "        -1.54353191e-03, -2.58514528e-03, -5.66288041e-03,\n",
       "        -6.52566316e-03, -6.62726028e-04,  4.42534478e-04,\n",
       "         8.74391291e-03,  7.74441874e-03,  6.49391494e-03,\n",
       "         4.71874678e-03, -6.86100527e-03,  4.11572246e-03,\n",
       "         5.69857620e-04, -1.19338799e-02,  3.22572670e-03,\n",
       "         9.65696109e-03, -4.68639251e-03,  6.28015894e-03,\n",
       "        -1.12219716e-03,  2.84847413e-03, -3.31837626e-03,\n",
       "        -3.85508711e-03,  2.01825979e-03, -4.12746175e-03,\n",
       "         8.11969122e-03, -6.51546758e-03,  3.40183194e-04,\n",
       "         4.28671497e-03, -4.60446379e-03, -5.53791783e-03,\n",
       "        -2.16561882e-03, -6.06432396e-03, -3.72301846e-03,\n",
       "         9.20294006e-03,  4.16891108e-03,  1.17484088e-03,\n",
       "        -2.44685362e-03, -4.79206765e-03, -5.47657701e-03,\n",
       "        -2.23625877e-03,  3.83547650e-04,  2.77332753e-03,\n",
       "        -3.53225713e-03, -1.74342860e-03,  5.30168274e-03,\n",
       "         5.55791772e-03, -5.94804058e-05,  4.31746895e-03,\n",
       "        -4.66495399e-03, -2.01206330e-04, -2.15246929e-03,\n",
       "         9.96833855e-04,  1.28227781e-02, -3.15540170e-04,\n",
       "        -1.14924950e-03, -1.89097849e-03,  8.50796430e-03,\n",
       "         4.05261003e-03, -1.54154667e-03,  3.07841805e-03,\n",
       "         2.99940321e-03, -7.52783328e-04, -4.29330422e-03,\n",
       "         6.78943543e-03,  6.89605831e-04, -2.54774218e-03,\n",
       "         1.81686791e-03,  1.04257704e-03,  5.47247395e-03,\n",
       "        -4.36201654e-03, -9.95642033e-04,  9.74108916e-04,\n",
       "        -5.67973920e-03,  1.31326395e-03,  3.17080789e-04,\n",
       "         8.77455546e-04,  2.20067803e-03,  4.47672121e-03,\n",
       "        -4.92057265e-03, -7.92703093e-04,  4.57488881e-03,\n",
       "         1.07689366e-03,  1.87875720e-03,  5.19357067e-04,\n",
       "        -1.06491384e-03,  6.02781437e-04,  1.39440604e-03,\n",
       "         4.80974447e-04, -3.96661021e-03, -2.31766162e-03,\n",
       "         3.00895690e-03]])"
      ]
     },
     "execution_count": 67,
     "metadata": {},
     "output_type": "execute_result"
    }
   ],
   "source": [
    "#model1 coefficient\n",
    "model1.coef_"
   ]
  },
  {
   "cell_type": "markdown",
   "metadata": {},
   "source": [
    "### Conclusion"
   ]
  },
  {
   "cell_type": "markdown",
   "metadata": {},
   "source": [
    "The best model of the 3 is model1. It has a better precision and recall score for the negative class. This model still isn't good enough because of its weakeness in classifying the negative class. \n",
    "\n",
    "A possible next step is to try different classifiers such as KNN, SVM or an ensemble model to investigate if it'll be predict the negative class."
   ]
  }
 ],
 "metadata": {
  "kernelspec": {
   "display_name": "Python 3",
   "language": "python",
   "name": "python3"
  },
  "language_info": {
   "codemirror_mode": {
    "name": "ipython",
    "version": 3
   },
   "file_extension": ".py",
   "mimetype": "text/x-python",
   "name": "python",
   "nbconvert_exporter": "python",
   "pygments_lexer": "ipython3",
   "version": "3.7.3"
  }
 },
 "nbformat": 4,
 "nbformat_minor": 4
}
